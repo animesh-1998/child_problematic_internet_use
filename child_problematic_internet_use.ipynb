{
 "cells": [
  {
   "cell_type": "code",
   "execution_count": 22,
   "id": "f16aac73",
   "metadata": {
    "_cell_guid": "b1076dfc-b9ad-4769-8c92-a6c4dae69d19",
    "_uuid": "8f2839f25d086af736a60e9eeb907d3b93b6e0e5",
    "execution": {
     "iopub.execute_input": "2024-12-20T10:45:42.187652Z",
     "iopub.status.busy": "2024-12-20T10:45:42.187135Z",
     "iopub.status.idle": "2024-12-20T10:46:02.156419Z",
     "shell.execute_reply": "2024-12-20T10:46:02.155468Z"
    },
    "papermill": {
     "duration": 19.982161,
     "end_time": "2024-12-20T10:46:02.158919",
     "exception": false,
     "start_time": "2024-12-20T10:45:42.176758",
     "status": "completed"
    },
    "tags": []
   },
   "outputs": [],
   "source": [
    "import numpy as np, pandas as pd, os\n",
    "from sklearn.model_selection import cross_val_score, StratifiedKFold\n",
    "import xgboost as xgb\n",
    "import plotly.express as px, seaborn as sns, matplotlib.pyplot as plt\n",
    "# # sns.set_style('darkgrid')\n",
    "from sklearn.metrics import make_scorer, cohen_kappa_score\n",
    "import seaborn as sns\n",
    "import matplotlib.pyplot as plt\n",
    "# import eli5\n",
    "# # from eli5.sklearn import PermutationImportance\n",
    "# import warnings\n",
    "# # warnings.simplefilter('ignore')"
   ]
  },
  {
   "cell_type": "markdown",
   "id": "d6198885",
   "metadata": {
    "papermill": {
     "duration": 0.009024,
     "end_time": "2024-12-20T10:46:02.177364",
     "exception": false,
     "start_time": "2024-12-20T10:46:02.168340",
     "status": "completed"
    },
    "tags": []
   },
   "source": [
    "# <p style=\"padding:15px; background-color:chocolate; font-family:arial; font-weight:bold; color:white; font-size:100%; letter-spacing: 2px; text-align:left; border-radius: 10px 10px\">3/ Data</p>"
   ]
  },
  {
   "cell_type": "code",
   "execution_count": 37,
   "id": "bda3b736",
   "metadata": {
    "execution": {
     "iopub.execute_input": "2024-12-20T10:46:02.198130Z",
     "iopub.status.busy": "2024-12-20T10:46:02.197311Z",
     "iopub.status.idle": "2024-12-20T10:46:02.294951Z",
     "shell.execute_reply": "2024-12-20T10:46:02.293774Z"
    },
    "papermill": {
     "duration": 0.110669,
     "end_time": "2024-12-20T10:46:02.297499",
     "exception": false,
     "start_time": "2024-12-20T10:46:02.186830",
     "status": "completed"
    },
    "tags": []
   },
   "outputs": [
    {
     "name": "stdout",
     "output_type": "stream",
     "text": [
      "The train data has the shape:  (3960, 82)\n",
      "The test data has the shape:  (20, 59)\n",
      "\n",
      "Total number of missing training values:  131717\n"
     ]
    }
   ],
   "source": [
    "\n",
    "\n",
    "train = pd.read_csv(r\"C:\\Users\\anime\\OneDrive\\Desktop\\Data Science Projects\\Child_internet_use\\train (1).csv\")\n",
    "print(\"The train data has the shape: \",train.shape)\n",
    "test = pd.read_csv(r\"C:\\Users\\anime\\OneDrive\\Desktop\\Data Science Projects\\Child_internet_use\\test (1).csv\")\n",
    "data_dictionary=pd.read_csv(r\"C:\\Users\\anime\\OneDrive\\Desktop\\Data Science Projects\\Child_internet_use\\data_dictionary.csv\")\n",
    "print(\"The test data has the shape: \",test.shape)\n",
    "print(\"\")\n",
    "print(\"Total number of missing training values: \", train.isna().sum().sum())"
   ]
  },
  {
   "cell_type": "code",
   "execution_count": 38,
   "id": "86dc07c4",
   "metadata": {
    "execution": {
     "iopub.execute_input": "2024-12-20T10:46:02.354790Z",
     "iopub.status.busy": "2024-12-20T10:46:02.354379Z",
     "iopub.status.idle": "2024-12-20T10:46:02.396761Z",
     "shell.execute_reply": "2024-12-20T10:46:02.395801Z"
    },
    "papermill": {
     "duration": 0.056212,
     "end_time": "2024-12-20T10:46:02.399225",
     "exception": false,
     "start_time": "2024-12-20T10:46:02.343013",
     "status": "completed"
    },
    "tags": []
   },
   "outputs": [
    {
     "name": "stderr",
     "output_type": "stream",
     "text": [
      "C:\\Users\\anime\\AppData\\Local\\Temp\\ipykernel_7972\\756577201.py:7: FutureWarning:\n",
      "\n",
      "Downcasting behavior in `replace` is deprecated and will be removed in a future version. To retain the old behavior, explicitly call `result.infer_objects(copy=False)`. To opt-in to the future behavior, set `pd.set_option('future.no_silent_downcasting', True)`\n",
      "\n"
     ]
    }
   ],
   "source": [
    "train_cat_columns = data_dictionary[data_dictionary['Type']=='str']['Field'].to_list()\n",
    "train_cat_columns.remove('id')\n",
    "# train_cat_columns=train_cat_columns.drop('id',axis=1)\n",
    "# print(train_cat_columns)\n",
    "for season in train_cat_columns:\n",
    "    train[season] = train[season].fillna(0)\n",
    "    train[season] = train[season].replace({'Spring':1, 'Summer':2, 'Fall':3, 'Winter':4})"
   ]
  },
  {
   "cell_type": "code",
   "execution_count": 42,
   "id": "e553c80f",
   "metadata": {
    "execution": {
     "iopub.execute_input": "2024-12-20T10:46:02.419868Z",
     "iopub.status.busy": "2024-12-20T10:46:02.419461Z",
     "iopub.status.idle": "2024-12-20T10:46:02.437040Z",
     "shell.execute_reply": "2024-12-20T10:46:02.435937Z"
    },
    "papermill": {
     "duration": 0.030765,
     "end_time": "2024-12-20T10:46:02.439374",
     "exception": false,
     "start_time": "2024-12-20T10:46:02.408609",
     "status": "completed"
    },
    "tags": []
   },
   "outputs": [
    {
     "name": "stdout",
     "output_type": "stream",
     "text": [
      "['Basic_Demos-Enroll_Season', 'CGAS-Season', 'Physical-Season', 'Fitness_Endurance-Season', 'FGC-Season', 'BIA-Season', 'PAQ_A-Season', 'PAQ_C-Season', 'SDS-Season', 'PreInt_EduHx-Season']\n"
     ]
    },
    {
     "name": "stderr",
     "output_type": "stream",
     "text": [
      "C:\\Users\\anime\\AppData\\Local\\Temp\\ipykernel_7972\\3393873176.py:9: FutureWarning:\n",
      "\n",
      "Downcasting behavior in `replace` is deprecated and will be removed in a future version. To retain the old behavior, explicitly call `result.infer_objects(copy=False)`. To opt-in to the future behavior, set `pd.set_option('future.no_silent_downcasting', True)`\n",
      "\n"
     ]
    }
   ],
   "source": [
    "test_cat_columns = data_dictionary[data_dictionary['Type']=='str']['Field'].to_list()\n",
    "test_cat_columns.remove('id')\n",
    "test_cat_columns.remove('PCIAT-Season')\n",
    "# train_cat_columns=train_cat_columns.drop('id',axis=1)\n",
    "print(test_cat_columns)\n",
    "\n",
    "for season in test_cat_columns:\n",
    "    test[season] = test[season].fillna(0)\n",
    "    test[season] = test[season].replace({'Spring':1, 'Summer':2, 'Fall':3, 'Winter':4})"
   ]
  },
  {
   "cell_type": "code",
   "execution_count": 43,
   "id": "afaa714f",
   "metadata": {
    "execution": {
     "iopub.execute_input": "2024-12-20T10:46:02.497266Z",
     "iopub.status.busy": "2024-12-20T10:46:02.496898Z",
     "iopub.status.idle": "2024-12-20T10:46:02.503121Z",
     "shell.execute_reply": "2024-12-20T10:46:02.502185Z"
    },
    "papermill": {
     "duration": 0.019083,
     "end_time": "2024-12-20T10:46:02.505437",
     "exception": false,
     "start_time": "2024-12-20T10:46:02.486354",
     "status": "completed"
    },
    "tags": []
   },
   "outputs": [
    {
     "name": "stdout",
     "output_type": "stream",
     "text": [
      "Number of PCIAT features =  22\n"
     ]
    }
   ],
   "source": [
    "PCIAT_cols = [val for val in train.columns[train.columns.str.contains('PCIAT')]]\n",
    "print('Number of PCIAT features = ' , len(PCIAT_cols))"
   ]
  },
  {
   "cell_type": "code",
   "execution_count": 44,
   "id": "05c8e21e",
   "metadata": {
    "execution": {
     "iopub.execute_input": "2024-12-20T10:46:02.526111Z",
     "iopub.status.busy": "2024-12-20T10:46:02.525425Z",
     "iopub.status.idle": "2024-12-20T10:46:04.499656Z",
     "shell.execute_reply": "2024-12-20T10:46:04.498638Z"
    },
    "papermill": {
     "duration": 1.986803,
     "end_time": "2024-12-20T10:46:04.501695",
     "exception": false,
     "start_time": "2024-12-20T10:46:02.514892",
     "status": "completed"
    },
    "tags": []
   },
   "outputs": [
    {
     "data": {
      "text/plain": [
       "<Axes: xlabel='PCIAT-PCIAT_Total', ylabel='Density'>"
      ]
     },
     "execution_count": 44,
     "metadata": {},
     "output_type": "execute_result"
    },
    {
     "data": {
      "image/png": "[encoded data removed]",
      "text/plain": [
       "<Figure size 640x480 with 1 Axes>"
      ]
     },
     "metadata": {},
     "output_type": "display_data"
    }
   ],
   "source": [
    "sns.kdeplot(train, x ='PCIAT-PCIAT_Total', hue = 'sii')\n"
   ]
  },
  {
   "cell_type": "code",
   "execution_count": 45,
   "id": "54cc4d10",
   "metadata": {
    "execution": {
     "iopub.execute_input": "2024-12-20T10:46:04.527987Z",
     "iopub.status.busy": "2024-12-20T10:46:04.527574Z",
     "iopub.status.idle": "2024-12-20T10:46:04.553239Z",
     "shell.execute_reply": "2024-12-20T10:46:04.552008Z"
    },
    "papermill": {
     "duration": 0.042543,
     "end_time": "2024-12-20T10:46:04.555728",
     "exception": false,
     "start_time": "2024-12-20T10:46:04.513185",
     "status": "completed"
    },
    "tags": []
   },
   "outputs": [
    {
     "name": "stdout",
     "output_type": "stream",
     "text": [
      "sii\n",
      "0.0    1594\n",
      "Name: count, dtype: int64\n",
      "sii\n",
      "1.0    730\n",
      "Name: count, dtype: int64\n",
      "sii\n",
      "2.0    378\n",
      "Name: count, dtype: int64\n",
      "sii\n",
      "3.0    34\n",
      "Name: count, dtype: int64\n"
     ]
    }
   ],
   "source": [
    "print(train[train['PCIAT-PCIAT_Total']<=30].sii.value_counts())\n",
    "print(train[(train['PCIAT-PCIAT_Total']>30) \n",
    "    & (train['PCIAT-PCIAT_Total']<50)].sii.value_counts())\n",
    "print(train[(train['PCIAT-PCIAT_Total']>=50) \n",
    "    & (train['PCIAT-PCIAT_Total']<80)].sii.value_counts())\n",
    "print(train[train['PCIAT-PCIAT_Total']>=80].sii.value_counts())"
   ]
  },
  {
   "cell_type": "code",
   "execution_count": 46,
   "id": "12b623ac",
   "metadata": {
    "execution": {
     "iopub.execute_input": "2024-12-20T10:46:04.580577Z",
     "iopub.status.busy": "2024-12-20T10:46:04.579320Z",
     "iopub.status.idle": "2024-12-20T10:46:04.589069Z",
     "shell.execute_reply": "2024-12-20T10:46:04.587935Z"
    },
    "papermill": {
     "duration": 0.024428,
     "end_time": "2024-12-20T10:46:04.591296",
     "exception": false,
     "start_time": "2024-12-20T10:46:04.566868",
     "status": "completed"
    },
    "tags": []
   },
   "outputs": [
    {
     "data": {
      "text/plain": [
       "sii\n",
       "0.0    1594\n",
       "1.0     730\n",
       "2.0     378\n",
       "3.0      34\n",
       "Name: count, dtype: int64"
      ]
     },
     "execution_count": 46,
     "metadata": {},
     "output_type": "execute_result"
    }
   ],
   "source": [
    "train.sii.value_counts()"
   ]
  },
  {
   "cell_type": "code",
   "execution_count": 47,
   "id": "57b07de5",
   "metadata": {
    "execution": {
     "iopub.execute_input": "2024-12-20T10:46:04.616524Z",
     "iopub.status.busy": "2024-12-20T10:46:04.616129Z",
     "iopub.status.idle": "2024-12-20T10:46:04.624013Z",
     "shell.execute_reply": "2024-12-20T10:46:04.622872Z"
    },
    "papermill": {
     "duration": 0.023939,
     "end_time": "2024-12-20T10:46:04.626326",
     "exception": false,
     "start_time": "2024-12-20T10:46:04.602387",
     "status": "completed"
    },
    "tags": []
   },
   "outputs": [],
   "source": [
    "PCIAT_cols.remove('PCIAT-PCIAT_Total')\n",
    "train = train.drop(columns = PCIAT_cols)"
   ]
  },
  {
   "cell_type": "code",
   "execution_count": 48,
   "id": "7a7ff10a",
   "metadata": {
    "execution": {
     "iopub.execute_input": "2024-12-20T10:46:04.695760Z",
     "iopub.status.busy": "2024-12-20T10:46:04.695331Z",
     "iopub.status.idle": "2024-12-20T10:46:05.052869Z",
     "shell.execute_reply": "2024-12-20T10:46:05.051787Z"
    },
    "papermill": {
     "duration": 0.37198,
     "end_time": "2024-12-20T10:46:05.054995",
     "exception": false,
     "start_time": "2024-12-20T10:46:04.683015",
     "status": "completed"
    },
    "tags": []
   },
   "outputs": [
    {
     "data": {
      "text/plain": [
       "Text(0.5, 1.0, 'Count of sii')"
      ]
     },
     "execution_count": 48,
     "metadata": {},
     "output_type": "execute_result"
    },
    {
     "data": {
      "image/png": "[encoded data removed]",
      "text/plain": [
       "<Figure size 640x480 with 1 Axes>"
      ]
     },
     "metadata": {},
     "output_type": "display_data"
    }
   ],
   "source": [
    "sns.countplot(train, x = 'sii').set_title('Count of sii')"
   ]
  },
  {
   "cell_type": "code",
   "execution_count": 49,
   "id": "53a8f90a",
   "metadata": {
    "execution": {
     "iopub.execute_input": "2024-12-20T10:46:05.079710Z",
     "iopub.status.busy": "2024-12-20T10:46:05.079260Z",
     "iopub.status.idle": "2024-12-20T10:46:06.253155Z",
     "shell.execute_reply": "2024-12-20T10:46:06.252062Z"
    },
    "papermill": {
     "duration": 1.190071,
     "end_time": "2024-12-20T10:46:06.256528",
     "exception": false,
     "start_time": "2024-12-20T10:46:05.066457",
     "status": "completed"
    },
    "tags": []
   },
   "outputs": [
    {
     "data": {
      "image/png": "[encoded data removed]",
      "text/plain": [
       "<Figure size 640x480 with 1 Axes>"
      ]
     },
     "metadata": {},
     "output_type": "display_data"
    },
    {
     "data": {
      "image/png": "[encoded data removed]",
      "text/plain": [
       "<Figure size 640x480 with 1 Axes>"
      ]
     },
     "metadata": {},
     "output_type": "display_data"
    },
    {
     "data": {
      "image/png": "[encoded data removed]",
      "text/plain": [
       "<Figure size 640x480 with 1 Axes>"
      ]
     },
     "metadata": {},
     "output_type": "display_data"
    },
    {
     "data": {
      "image/png": "[encoded data removed]",
      "text/plain": [
       "<Figure size 640x480 with 1 Axes>"
      ]
     },
     "metadata": {},
     "output_type": "display_data"
    }
   ],
   "source": [
    "vals = ['PIU = 0', 'PIU = 1','PIU = 2', 'PIU = 3']\n",
    "\n",
    "for i in range(4):\n",
    "    plt.figure()\n",
    "    plot = sns.countplot(x = train[train.sii==i]['PreInt_EduHx-computerinternet_hoursday'])\n",
    "    plot.set_title(vals[i])"
   ]
  },
  {
   "cell_type": "code",
   "execution_count": 50,
   "id": "9d0aa680",
   "metadata": {
    "execution": {
     "iopub.execute_input": "2024-12-20T10:46:06.290091Z",
     "iopub.status.busy": "2024-12-20T10:46:06.289341Z",
     "iopub.status.idle": "2024-12-20T10:46:06.297625Z",
     "shell.execute_reply": "2024-12-20T10:46:06.296714Z"
    },
    "papermill": {
     "duration": 0.024107,
     "end_time": "2024-12-20T10:46:06.299623",
     "exception": false,
     "start_time": "2024-12-20T10:46:06.275516",
     "status": "completed"
    },
    "tags": []
   },
   "outputs": [],
   "source": [
    "train = train.dropna(subset='sii')"
   ]
  },
  {
   "cell_type": "code",
   "execution_count": 54,
   "id": "cabd26ab",
   "metadata": {
    "execution": {
     "iopub.execute_input": "2024-12-20T10:46:06.376811Z",
     "iopub.status.busy": "2024-12-20T10:46:06.375995Z",
     "iopub.status.idle": "2024-12-20T10:46:06.464797Z",
     "shell.execute_reply": "2024-12-20T10:46:06.463683Z"
    },
    "papermill": {
     "duration": 0.104824,
     "end_time": "2024-12-20T10:46:06.466863",
     "exception": false,
     "start_time": "2024-12-20T10:46:06.362039",
     "status": "completed"
    },
    "tags": []
   },
   "outputs": [
    {
     "data": {
      "text/html": [
       "<style type=\"text/css\">\n",
       "#T_6b580_row0_col0 {\n",
       "  background-color: #800026;\n",
       "  color: #f1f1f1;\n",
       "}\n",
       "#T_6b580_row1_col0 {\n",
       "  background-color: #aa0026;\n",
       "  color: #f1f1f1;\n",
       "}\n",
       "#T_6b580_row2_col0 {\n",
       "  background-color: #fd8f3d;\n",
       "  color: #f1f1f1;\n",
       "}\n",
       "#T_6b580_row3_col0 {\n",
       "  background-color: #fd913e;\n",
       "  color: #000000;\n",
       "}\n",
       "#T_6b580_row4_col0 {\n",
       "  background-color: #fd9a42;\n",
       "  color: #000000;\n",
       "}\n",
       "#T_6b580_row5_col0 {\n",
       "  background-color: #fea044;\n",
       "  color: #000000;\n",
       "}\n",
       "#T_6b580_row6_col0 {\n",
       "  background-color: #fea647;\n",
       "  color: #000000;\n",
       "}\n",
       "#T_6b580_row7_col0 {\n",
       "  background-color: #feb04b;\n",
       "  color: #000000;\n",
       "}\n",
       "#T_6b580_row8_col0 {\n",
       "  background-color: #febb56;\n",
       "  color: #000000;\n",
       "}\n",
       "#T_6b580_row9_col0, #T_6b580_row10_col0 {\n",
       "  background-color: #febe59;\n",
       "  color: #000000;\n",
       "}\n",
       "#T_6b580_row11_col0 {\n",
       "  background-color: #febf5a;\n",
       "  color: #000000;\n",
       "}\n",
       "#T_6b580_row12_col0 {\n",
       "  background-color: #fec35e;\n",
       "  color: #000000;\n",
       "}\n",
       "#T_6b580_row13_col0, #T_6b580_row14_col0 {\n",
       "  background-color: #feca66;\n",
       "  color: #000000;\n",
       "}\n",
       "#T_6b580_row15_col0 {\n",
       "  background-color: #fed470;\n",
       "  color: #000000;\n",
       "}\n",
       "#T_6b580_row16_col0, #T_6b580_row17_col0 {\n",
       "  background-color: #fed774;\n",
       "  color: #000000;\n",
       "}\n",
       "#T_6b580_row18_col0 {\n",
       "  background-color: #fed977;\n",
       "  color: #000000;\n",
       "}\n",
       "#T_6b580_row19_col0 {\n",
       "  background-color: #fedd7e;\n",
       "  color: #000000;\n",
       "}\n",
       "#T_6b580_row20_col0 {\n",
       "  background-color: #fedd7f;\n",
       "  color: #000000;\n",
       "}\n",
       "#T_6b580_row21_col0, #T_6b580_row22_col0 {\n",
       "  background-color: #fee085;\n",
       "  color: #000000;\n",
       "}\n",
       "#T_6b580_row23_col0 {\n",
       "  background-color: #fee288;\n",
       "  color: #000000;\n",
       "}\n",
       "#T_6b580_row24_col0 {\n",
       "  background-color: #fee38b;\n",
       "  color: #000000;\n",
       "}\n",
       "#T_6b580_row25_col0 {\n",
       "  background-color: #ffe58f;\n",
       "  color: #000000;\n",
       "}\n",
       "#T_6b580_row26_col0, #T_6b580_row27_col0, #T_6b580_row28_col0 {\n",
       "  background-color: #ffe590;\n",
       "  color: #000000;\n",
       "}\n",
       "#T_6b580_row29_col0 {\n",
       "  background-color: #ffe793;\n",
       "  color: #000000;\n",
       "}\n",
       "#T_6b580_row30_col0, #T_6b580_row31_col0, #T_6b580_row32_col0, #T_6b580_row33_col0 {\n",
       "  background-color: #ffe794;\n",
       "  color: #000000;\n",
       "}\n",
       "#T_6b580_row34_col0 {\n",
       "  background-color: #ffe895;\n",
       "  color: #000000;\n",
       "}\n",
       "#T_6b580_row35_col0 {\n",
       "  background-color: #ffe997;\n",
       "  color: #000000;\n",
       "}\n",
       "#T_6b580_row36_col0, #T_6b580_row37_col0 {\n",
       "  background-color: #ffe998;\n",
       "  color: #000000;\n",
       "}\n",
       "#T_6b580_row38_col0 {\n",
       "  background-color: #ffea99;\n",
       "  color: #000000;\n",
       "}\n",
       "#T_6b580_row39_col0 {\n",
       "  background-color: #ffec9d;\n",
       "  color: #000000;\n",
       "}\n",
       "#T_6b580_row40_col0 {\n",
       "  background-color: #ffec9f;\n",
       "  color: #000000;\n",
       "}\n",
       "#T_6b580_row41_col0, #T_6b580_row42_col0 {\n",
       "  background-color: #ffeda0;\n",
       "  color: #000000;\n",
       "}\n",
       "#T_6b580_row43_col0, #T_6b580_row44_col0 {\n",
       "  background-color: #ffeda1;\n",
       "  color: #000000;\n",
       "}\n",
       "#T_6b580_row45_col0 {\n",
       "  background-color: #ffefa5;\n",
       "  color: #000000;\n",
       "}\n",
       "#T_6b580_row46_col0 {\n",
       "  background-color: #fff0a7;\n",
       "  color: #000000;\n",
       "}\n",
       "#T_6b580_row47_col0 {\n",
       "  background-color: #fff0a8;\n",
       "  color: #000000;\n",
       "}\n",
       "#T_6b580_row48_col0, #T_6b580_row49_col0, #T_6b580_row50_col0 {\n",
       "  background-color: #fff1ab;\n",
       "  color: #000000;\n",
       "}\n",
       "#T_6b580_row51_col0 {\n",
       "  background-color: #fff2ac;\n",
       "  color: #000000;\n",
       "}\n",
       "#T_6b580_row52_col0 {\n",
       "  background-color: #fff3af;\n",
       "  color: #000000;\n",
       "}\n",
       "#T_6b580_row53_col0 {\n",
       "  background-color: #fff5b5;\n",
       "  color: #000000;\n",
       "}\n",
       "#T_6b580_row54_col0 {\n",
       "  background-color: #fff7b7;\n",
       "  color: #000000;\n",
       "}\n",
       "#T_6b580_row55_col0, #T_6b580_row56_col0 {\n",
       "  background-color: #fff8bb;\n",
       "  color: #000000;\n",
       "}\n",
       "#T_6b580_row57_col0 {\n",
       "  background-color: #fff9bd;\n",
       "  color: #000000;\n",
       "}\n",
       "#T_6b580_row58_col0 {\n",
       "  background-color: #fffac1;\n",
       "  color: #000000;\n",
       "}\n",
       "#T_6b580_row59_col0 {\n",
       "  background-color: #ffffcc;\n",
       "  color: #000000;\n",
       "}\n",
       "</style>\n",
       "<table id=\"T_6b580\">\n",
       "  <thead>\n",
       "    <tr>\n",
       "      <th class=\"blank level0\" >&nbsp;</th>\n",
       "      <th id=\"T_6b580_level0_col0\" class=\"col_heading level0 col0\" >PCIAT-PCIAT_Total</th>\n",
       "    </tr>\n",
       "  </thead>\n",
       "  <tbody>\n",
       "    <tr>\n",
       "      <th id=\"T_6b580_level0_row0\" class=\"row_heading level0 row0\" >PCIAT-PCIAT_Total</th>\n",
       "      <td id=\"T_6b580_row0_col0\" class=\"data row0 col0\" >1.000000</td>\n",
       "    </tr>\n",
       "    <tr>\n",
       "      <th id=\"T_6b580_level0_row1\" class=\"row_heading level0 row1\" >sii</th>\n",
       "      <td id=\"T_6b580_row1_col0\" class=\"data row1 col0\" >0.899681</td>\n",
       "    </tr>\n",
       "    <tr>\n",
       "      <th id=\"T_6b580_level0_row2\" class=\"row_heading level0 row2\" >Physical-Height</th>\n",
       "      <td id=\"T_6b580_row2_col0\" class=\"data row2 col0\" >0.420765</td>\n",
       "    </tr>\n",
       "    <tr>\n",
       "      <th id=\"T_6b580_level0_row3\" class=\"row_heading level0 row3\" >Basic_Demos-Age</th>\n",
       "      <td id=\"T_6b580_row3_col0\" class=\"data row3 col0\" >0.409559</td>\n",
       "    </tr>\n",
       "    <tr>\n",
       "      <th id=\"T_6b580_level0_row4\" class=\"row_heading level0 row4\" >PreInt_EduHx-computerinternet_hoursday</th>\n",
       "      <td id=\"T_6b580_row4_col0\" class=\"data row4 col0\" >0.374124</td>\n",
       "    </tr>\n",
       "    <tr>\n",
       "      <th id=\"T_6b580_level0_row5\" class=\"row_heading level0 row5\" >Physical-Weight</th>\n",
       "      <td id=\"T_6b580_row5_col0\" class=\"data row5 col0\" >0.353048</td>\n",
       "    </tr>\n",
       "    <tr>\n",
       "      <th id=\"T_6b580_level0_row6\" class=\"row_heading level0 row6\" >Physical-Waist_Circumference</th>\n",
       "      <td id=\"T_6b580_row6_col0\" class=\"data row6 col0\" >0.327013</td>\n",
       "    </tr>\n",
       "    <tr>\n",
       "      <th id=\"T_6b580_level0_row7\" class=\"row_heading level0 row7\" >FGC-FGC_CU</th>\n",
       "      <td id=\"T_6b580_row7_col0\" class=\"data row7 col0\" >0.287494</td>\n",
       "    </tr>\n",
       "    <tr>\n",
       "      <th id=\"T_6b580_level0_row8\" class=\"row_heading level0 row8\" >BIA-BIA_BMI</th>\n",
       "      <td id=\"T_6b580_row8_col0\" class=\"data row8 col0\" >0.248060</td>\n",
       "    </tr>\n",
       "    <tr>\n",
       "      <th id=\"T_6b580_level0_row9\" class=\"row_heading level0 row9\" >Physical-BMI</th>\n",
       "      <td id=\"T_6b580_row9_col0\" class=\"data row9 col0\" >0.240858</td>\n",
       "    </tr>\n",
       "    <tr>\n",
       "      <th id=\"T_6b580_level0_row10\" class=\"row_heading level0 row10\" >SDS-SDS_Total_T</th>\n",
       "      <td id=\"T_6b580_row10_col0\" class=\"data row10 col0\" >0.237718</td>\n",
       "    </tr>\n",
       "    <tr>\n",
       "      <th id=\"T_6b580_level0_row11\" class=\"row_heading level0 row11\" >SDS-SDS_Total_Raw</th>\n",
       "      <td id=\"T_6b580_row11_col0\" class=\"data row11 col0\" >0.234432</td>\n",
       "    </tr>\n",
       "    <tr>\n",
       "      <th id=\"T_6b580_level0_row12\" class=\"row_heading level0 row12\" >PAQ_A-Season</th>\n",
       "      <td id=\"T_6b580_row12_col0\" class=\"data row12 col0\" >0.219292</td>\n",
       "    </tr>\n",
       "    <tr>\n",
       "      <th id=\"T_6b580_level0_row13\" class=\"row_heading level0 row13\" >FGC-FGC_PU</th>\n",
       "      <td id=\"T_6b580_row13_col0\" class=\"data row13 col0\" >0.196006</td>\n",
       "    </tr>\n",
       "    <tr>\n",
       "      <th id=\"T_6b580_level0_row14\" class=\"row_heading level0 row14\" >BIA-BIA_Frame_num</th>\n",
       "      <td id=\"T_6b580_row14_col0\" class=\"data row14 col0\" >0.193631</td>\n",
       "    </tr>\n",
       "    <tr>\n",
       "      <th id=\"T_6b580_level0_row15\" class=\"row_heading level0 row15\" >FGC-FGC_GSD</th>\n",
       "      <td id=\"T_6b580_row15_col0\" class=\"data row15 col0\" >0.160472</td>\n",
       "    </tr>\n",
       "    <tr>\n",
       "      <th id=\"T_6b580_level0_row16\" class=\"row_heading level0 row16\" >Physical-Systolic_BP</th>\n",
       "      <td id=\"T_6b580_row16_col0\" class=\"data row16 col0\" >0.147081</td>\n",
       "    </tr>\n",
       "    <tr>\n",
       "      <th id=\"T_6b580_level0_row17\" class=\"row_heading level0 row17\" >FGC-FGC_GSND</th>\n",
       "      <td id=\"T_6b580_row17_col0\" class=\"data row17 col0\" >0.146813</td>\n",
       "    </tr>\n",
       "    <tr>\n",
       "      <th id=\"T_6b580_level0_row18\" class=\"row_heading level0 row18\" >FGC-FGC_TL</th>\n",
       "      <td id=\"T_6b580_row18_col0\" class=\"data row18 col0\" >0.136696</td>\n",
       "    </tr>\n",
       "    <tr>\n",
       "      <th id=\"T_6b580_level0_row19\" class=\"row_heading level0 row19\" >PAQ_C-Season</th>\n",
       "      <td id=\"T_6b580_row19_col0\" class=\"data row19 col0\" >0.115316</td>\n",
       "    </tr>\n",
       "    <tr>\n",
       "      <th id=\"T_6b580_level0_row20\" class=\"row_heading level0 row20\" >BIA-BIA_FFMI</th>\n",
       "      <td id=\"T_6b580_row20_col0\" class=\"data row20 col0\" >0.109694</td>\n",
       "    </tr>\n",
       "    <tr>\n",
       "      <th id=\"T_6b580_level0_row21\" class=\"row_heading level0 row21\" >BIA-BIA_FMI</th>\n",
       "      <td id=\"T_6b580_row21_col0\" class=\"data row21 col0\" >0.085863</td>\n",
       "    </tr>\n",
       "    <tr>\n",
       "      <th id=\"T_6b580_level0_row22\" class=\"row_heading level0 row22\" >BIA-BIA_Activity_Level_num</th>\n",
       "      <td id=\"T_6b580_row22_col0\" class=\"data row22 col0\" >0.084548</td>\n",
       "    </tr>\n",
       "    <tr>\n",
       "      <th id=\"T_6b580_level0_row23\" class=\"row_heading level0 row23\" >BIA-BIA_LST</th>\n",
       "      <td id=\"T_6b580_row23_col0\" class=\"data row23 col0\" >0.075623</td>\n",
       "    </tr>\n",
       "    <tr>\n",
       "      <th id=\"T_6b580_level0_row24\" class=\"row_heading level0 row24\" >Physical-Diastolic_BP</th>\n",
       "      <td id=\"T_6b580_row24_col0\" class=\"data row24 col0\" >0.069321</td>\n",
       "    </tr>\n",
       "    <tr>\n",
       "      <th id=\"T_6b580_level0_row25\" class=\"row_heading level0 row25\" >FGC-FGC_PU_Zone</th>\n",
       "      <td id=\"T_6b580_row25_col0\" class=\"data row25 col0\" >0.056973</td>\n",
       "    </tr>\n",
       "    <tr>\n",
       "      <th id=\"T_6b580_level0_row26\" class=\"row_heading level0 row26\" >BIA-BIA_DEE</th>\n",
       "      <td id=\"T_6b580_row26_col0\" class=\"data row26 col0\" >0.053094</td>\n",
       "    </tr>\n",
       "    <tr>\n",
       "      <th id=\"T_6b580_level0_row27\" class=\"row_heading level0 row27\" >BIA-BIA_SMM</th>\n",
       "      <td id=\"T_6b580_row27_col0\" class=\"data row27 col0\" >0.052912</td>\n",
       "    </tr>\n",
       "    <tr>\n",
       "      <th id=\"T_6b580_level0_row28\" class=\"row_heading level0 row28\" >BIA-BIA_ICW</th>\n",
       "      <td id=\"T_6b580_row28_col0\" class=\"data row28 col0\" >0.052593</td>\n",
       "    </tr>\n",
       "    <tr>\n",
       "      <th id=\"T_6b580_level0_row29\" class=\"row_heading level0 row29\" >BIA-BIA_TBW</th>\n",
       "      <td id=\"T_6b580_row29_col0\" class=\"data row29 col0\" >0.043015</td>\n",
       "    </tr>\n",
       "    <tr>\n",
       "      <th id=\"T_6b580_level0_row30\" class=\"row_heading level0 row30\" >BIA-BIA_Fat</th>\n",
       "      <td id=\"T_6b580_row30_col0\" class=\"data row30 col0\" >0.038548</td>\n",
       "    </tr>\n",
       "    <tr>\n",
       "      <th id=\"T_6b580_level0_row31\" class=\"row_heading level0 row31\" >BIA-BIA_BMR</th>\n",
       "      <td id=\"T_6b580_row31_col0\" class=\"data row31 col0\" >0.037009</td>\n",
       "    </tr>\n",
       "    <tr>\n",
       "      <th id=\"T_6b580_level0_row32\" class=\"row_heading level0 row32\" >BIA-BIA_FFM</th>\n",
       "      <td id=\"T_6b580_row32_col0\" class=\"data row32 col0\" >0.037009</td>\n",
       "    </tr>\n",
       "    <tr>\n",
       "      <th id=\"T_6b580_level0_row33\" class=\"row_heading level0 row33\" >BIA-BIA_ECW</th>\n",
       "      <td id=\"T_6b580_row33_col0\" class=\"data row33 col0\" >0.035568</td>\n",
       "    </tr>\n",
       "    <tr>\n",
       "      <th id=\"T_6b580_level0_row34\" class=\"row_heading level0 row34\" >PreInt_EduHx-Season</th>\n",
       "      <td id=\"T_6b580_row34_col0\" class=\"data row34 col0\" >0.033788</td>\n",
       "    </tr>\n",
       "    <tr>\n",
       "      <th id=\"T_6b580_level0_row35\" class=\"row_heading level0 row35\" >Basic_Demos-Enroll_Season</th>\n",
       "      <td id=\"T_6b580_row35_col0\" class=\"data row35 col0\" >0.029793</td>\n",
       "    </tr>\n",
       "    <tr>\n",
       "      <th id=\"T_6b580_level0_row36\" class=\"row_heading level0 row36\" >BIA-BIA_LDM</th>\n",
       "      <td id=\"T_6b580_row36_col0\" class=\"data row36 col0\" >0.025885</td>\n",
       "    </tr>\n",
       "    <tr>\n",
       "      <th id=\"T_6b580_level0_row37\" class=\"row_heading level0 row37\" >SDS-Season</th>\n",
       "      <td id=\"T_6b580_row37_col0\" class=\"data row37 col0\" >0.025112</td>\n",
       "    </tr>\n",
       "    <tr>\n",
       "      <th id=\"T_6b580_level0_row38\" class=\"row_heading level0 row38\" >Physical-Season</th>\n",
       "      <td id=\"T_6b580_row38_col0\" class=\"data row38 col0\" >0.021411</td>\n",
       "    </tr>\n",
       "    <tr>\n",
       "      <th id=\"T_6b580_level0_row39\" class=\"row_heading level0 row39\" >FGC-FGC_GSD_Zone</th>\n",
       "      <td id=\"T_6b580_row39_col0\" class=\"data row39 col0\" >0.006861</td>\n",
       "    </tr>\n",
       "    <tr>\n",
       "      <th id=\"T_6b580_level0_row40\" class=\"row_heading level0 row40\" >Fitness_Endurance-Time_Sec</th>\n",
       "      <td id=\"T_6b580_row40_col0\" class=\"data row40 col0\" >-0.000373</td>\n",
       "    </tr>\n",
       "    <tr>\n",
       "      <th id=\"T_6b580_level0_row41\" class=\"row_heading level0 row41\" >CGAS-Season</th>\n",
       "      <td id=\"T_6b580_row41_col0\" class=\"data row41 col0\" >-0.003344</td>\n",
       "    </tr>\n",
       "    <tr>\n",
       "      <th id=\"T_6b580_level0_row42\" class=\"row_heading level0 row42\" >FGC-FGC_CU_Zone</th>\n",
       "      <td id=\"T_6b580_row42_col0\" class=\"data row42 col0\" >-0.004454</td>\n",
       "    </tr>\n",
       "    <tr>\n",
       "      <th id=\"T_6b580_level0_row43\" class=\"row_heading level0 row43\" >BIA-BIA_BMC</th>\n",
       "      <td id=\"T_6b580_row43_col0\" class=\"data row43 col0\" >-0.008870</td>\n",
       "    </tr>\n",
       "    <tr>\n",
       "      <th id=\"T_6b580_level0_row44\" class=\"row_heading level0 row44\" >FGC-FGC_GSND_Zone</th>\n",
       "      <td id=\"T_6b580_row44_col0\" class=\"data row44 col0\" >-0.009525</td>\n",
       "    </tr>\n",
       "    <tr>\n",
       "      <th id=\"T_6b580_level0_row45\" class=\"row_heading level0 row45\" >PAQ_C-PAQ_C_Total</th>\n",
       "      <td id=\"T_6b580_row45_col0\" class=\"data row45 col0\" >-0.021943</td>\n",
       "    </tr>\n",
       "    <tr>\n",
       "      <th id=\"T_6b580_level0_row46\" class=\"row_heading level0 row46\" >PAQ_A-PAQ_A_Total</th>\n",
       "      <td id=\"T_6b580_row46_col0\" class=\"data row46 col0\" >-0.026854</td>\n",
       "    </tr>\n",
       "    <tr>\n",
       "      <th id=\"T_6b580_level0_row47\" class=\"row_heading level0 row47\" >FGC-Season</th>\n",
       "      <td id=\"T_6b580_row47_col0\" class=\"data row47 col0\" >-0.030890</td>\n",
       "    </tr>\n",
       "    <tr>\n",
       "      <th id=\"T_6b580_level0_row48\" class=\"row_heading level0 row48\" >FGC-FGC_TL_Zone</th>\n",
       "      <td id=\"T_6b580_row48_col0\" class=\"data row48 col0\" >-0.037214</td>\n",
       "    </tr>\n",
       "    <tr>\n",
       "      <th id=\"T_6b580_level0_row49\" class=\"row_heading level0 row49\" >Physical-HeartRate</th>\n",
       "      <td id=\"T_6b580_row49_col0\" class=\"data row49 col0\" >-0.037594</td>\n",
       "    </tr>\n",
       "    <tr>\n",
       "      <th id=\"T_6b580_level0_row50\" class=\"row_heading level0 row50\" >BIA-Season</th>\n",
       "      <td id=\"T_6b580_row50_col0\" class=\"data row50 col0\" >-0.040922</td>\n",
       "    </tr>\n",
       "    <tr>\n",
       "      <th id=\"T_6b580_level0_row51\" class=\"row_heading level0 row51\" >Fitness_Endurance-Max_Stage</th>\n",
       "      <td id=\"T_6b580_row51_col0\" class=\"data row51 col0\" >-0.041720</td>\n",
       "    </tr>\n",
       "    <tr>\n",
       "      <th id=\"T_6b580_level0_row52\" class=\"row_heading level0 row52\" >Fitness_Endurance-Time_Mins</th>\n",
       "      <td id=\"T_6b580_row52_col0\" class=\"data row52 col0\" >-0.052376</td>\n",
       "    </tr>\n",
       "    <tr>\n",
       "      <th id=\"T_6b580_level0_row53\" class=\"row_heading level0 row53\" >CGAS-CGAS_Score</th>\n",
       "      <td id=\"T_6b580_row53_col0\" class=\"data row53 col0\" >-0.070542</td>\n",
       "    </tr>\n",
       "    <tr>\n",
       "      <th id=\"T_6b580_level0_row54\" class=\"row_heading level0 row54\" >FGC-FGC_SRR</th>\n",
       "      <td id=\"T_6b580_row54_col0\" class=\"data row54 col0\" >-0.077836</td>\n",
       "    </tr>\n",
       "    <tr>\n",
       "      <th id=\"T_6b580_level0_row55\" class=\"row_heading level0 row55\" >FGC-FGC_SRL</th>\n",
       "      <td id=\"T_6b580_row55_col0\" class=\"data row55 col0\" >-0.091221</td>\n",
       "    </tr>\n",
       "    <tr>\n",
       "      <th id=\"T_6b580_level0_row56\" class=\"row_heading level0 row56\" >Basic_Demos-Sex</th>\n",
       "      <td id=\"T_6b580_row56_col0\" class=\"data row56 col0\" >-0.093648</td>\n",
       "    </tr>\n",
       "    <tr>\n",
       "      <th id=\"T_6b580_level0_row57\" class=\"row_heading level0 row57\" >Fitness_Endurance-Season</th>\n",
       "      <td id=\"T_6b580_row57_col0\" class=\"data row57 col0\" >-0.097788</td>\n",
       "    </tr>\n",
       "    <tr>\n",
       "      <th id=\"T_6b580_level0_row58\" class=\"row_heading level0 row58\" >FGC-FGC_SRR_Zone</th>\n",
       "      <td id=\"T_6b580_row58_col0\" class=\"data row58 col0\" >-0.109682</td>\n",
       "    </tr>\n",
       "    <tr>\n",
       "      <th id=\"T_6b580_level0_row59\" class=\"row_heading level0 row59\" >FGC-FGC_SRL_Zone</th>\n",
       "      <td id=\"T_6b580_row59_col0\" class=\"data row59 col0\" >-0.148850</td>\n",
       "    </tr>\n",
       "  </tbody>\n",
       "</table>\n"
      ],
      "text/plain": [
       "<pandas.io.formats.style.Styler at 0x21d884d1220>"
      ]
     },
     "execution_count": 54,
     "metadata": {},
     "output_type": "execute_result"
    }
   ],
   "source": [
    "corr = pd.DataFrame(train.corr(numeric_only=True)['PCIAT-PCIAT_Total'].sort_values(ascending = False))\n",
    "corr.style.background_gradient(cmap='YlOrRd')\n"
   ]
  },
  {
   "cell_type": "code",
   "execution_count": 55,
   "id": "db467d05",
   "metadata": {
    "execution": {
     "iopub.execute_input": "2024-12-20T10:46:06.496389Z",
     "iopub.status.busy": "2024-12-20T10:46:06.495672Z",
     "iopub.status.idle": "2024-12-20T10:46:06.502298Z",
     "shell.execute_reply": "2024-12-20T10:46:06.501247Z"
    },
    "papermill": {
     "duration": 0.023167,
     "end_time": "2024-12-20T10:46:06.504283",
     "exception": false,
     "start_time": "2024-12-20T10:46:06.481116",
     "status": "completed"
    },
    "tags": []
   },
   "outputs": [],
   "source": [
    "selection = corr[(corr['PCIAT-PCIAT_Total']>.1) | (corr['PCIAT-PCIAT_Total']<-.1)]\n",
    "selection = [val for val in selection.index]\n",
    "selection.remove('PCIAT-PCIAT_Total')\n",
    "selection.remove('sii')\n",
    "selection.remove('Physical-BMI')\n",
    "selection.remove('SDS-SDS_Total_Raw')"
   ]
  },
  {
   "cell_type": "code",
   "execution_count": 56,
   "id": "5fe396ee",
   "metadata": {
    "execution": {
     "iopub.execute_input": "2024-12-20T10:46:06.532706Z",
     "iopub.status.busy": "2024-12-20T10:46:06.532300Z",
     "iopub.status.idle": "2024-12-20T10:46:06.539030Z",
     "shell.execute_reply": "2024-12-20T10:46:06.538018Z"
    },
    "papermill": {
     "duration": 0.02353,
     "end_time": "2024-12-20T10:46:06.541005",
     "exception": false,
     "start_time": "2024-12-20T10:46:06.517475",
     "status": "completed"
    },
    "tags": []
   },
   "outputs": [
    {
     "data": {
      "text/plain": [
       "['Physical-Height',\n",
       " 'Basic_Demos-Age',\n",
       " 'PreInt_EduHx-computerinternet_hoursday',\n",
       " 'Physical-Weight',\n",
       " 'Physical-Waist_Circumference',\n",
       " 'FGC-FGC_CU',\n",
       " 'BIA-BIA_BMI',\n",
       " 'SDS-SDS_Total_T',\n",
       " 'PAQ_A-Season',\n",
       " 'FGC-FGC_PU',\n",
       " 'BIA-BIA_Frame_num',\n",
       " 'FGC-FGC_GSD',\n",
       " 'Physical-Systolic_BP',\n",
       " 'FGC-FGC_GSND',\n",
       " 'FGC-FGC_TL',\n",
       " 'PAQ_C-Season',\n",
       " 'BIA-BIA_FFMI',\n",
       " 'FGC-FGC_SRR_Zone',\n",
       " 'FGC-FGC_SRL_Zone']"
      ]
     },
     "execution_count": 56,
     "metadata": {},
     "output_type": "execute_result"
    }
   ],
   "source": [
    "selection"
   ]
  },
  {
   "cell_type": "code",
   "execution_count": 57,
   "id": "c3008dbb",
   "metadata": {
    "execution": {
     "iopub.execute_input": "2024-12-20T10:46:06.622359Z",
     "iopub.status.busy": "2024-12-20T10:46:06.621952Z",
     "iopub.status.idle": "2024-12-20T10:46:06.640263Z",
     "shell.execute_reply": "2024-12-20T10:46:06.638984Z"
    },
    "papermill": {
     "duration": 0.035209,
     "end_time": "2024-12-20T10:46:06.642393",
     "exception": false,
     "start_time": "2024-12-20T10:46:06.607184",
     "status": "completed"
    },
    "tags": []
   },
   "outputs": [
    {
     "data": {
      "text/html": [
       "<style type=\"text/css\">\n",
       "#T_17646_row0_col0 {\n",
       "  background-color: #800026;\n",
       "  color: #f1f1f1;\n",
       "}\n",
       "#T_17646_row1_col0 {\n",
       "  background-color: #990026;\n",
       "  color: #f1f1f1;\n",
       "}\n",
       "#T_17646_row2_col0, #T_17646_row3_col0 {\n",
       "  background-color: #c70723;\n",
       "  color: #f1f1f1;\n",
       "}\n",
       "#T_17646_row4_col0 {\n",
       "  background-color: #c80723;\n",
       "  color: #f1f1f1;\n",
       "}\n",
       "#T_17646_row5_col0, #T_17646_row6_col0 {\n",
       "  background-color: #d9131f;\n",
       "  color: #f1f1f1;\n",
       "}\n",
       "#T_17646_row7_col0, #T_17646_row8_col0 {\n",
       "  background-color: #da141e;\n",
       "  color: #f1f1f1;\n",
       "}\n",
       "#T_17646_row9_col0 {\n",
       "  background-color: #fd7e38;\n",
       "  color: #f1f1f1;\n",
       "}\n",
       "#T_17646_row10_col0, #T_17646_row11_col0, #T_17646_row12_col0, #T_17646_row13_col0, #T_17646_row14_col0, #T_17646_row15_col0, #T_17646_row16_col0, #T_17646_row17_col0, #T_17646_row18_col0, #T_17646_row19_col0, #T_17646_row20_col0, #T_17646_row21_col0, #T_17646_row22_col0, #T_17646_row23_col0, #T_17646_row24_col0, #T_17646_row25_col0 {\n",
       "  background-color: #feb54f;\n",
       "  color: #000000;\n",
       "}\n",
       "#T_17646_row26_col0 {\n",
       "  background-color: #febd57;\n",
       "  color: #000000;\n",
       "}\n",
       "#T_17646_row27_col0, #T_17646_row28_col0, #T_17646_row29_col0 {\n",
       "  background-color: #febe59;\n",
       "  color: #000000;\n",
       "}\n",
       "#T_17646_row30_col0 {\n",
       "  background-color: #febf5a;\n",
       "  color: #000000;\n",
       "}\n",
       "#T_17646_row31_col0, #T_17646_row32_col0 {\n",
       "  background-color: #fec15d;\n",
       "  color: #000000;\n",
       "}\n",
       "#T_17646_row33_col0, #T_17646_row34_col0, #T_17646_row35_col0 {\n",
       "  background-color: #fec35e;\n",
       "  color: #000000;\n",
       "}\n",
       "#T_17646_row36_col0 {\n",
       "  background-color: #ffec9d;\n",
       "  color: #000000;\n",
       "}\n",
       "#T_17646_row37_col0, #T_17646_row38_col0 {\n",
       "  background-color: #fff4b2;\n",
       "  color: #000000;\n",
       "}\n",
       "#T_17646_row39_col0 {\n",
       "  background-color: #fff5b3;\n",
       "  color: #000000;\n",
       "}\n",
       "#T_17646_row40_col0, #T_17646_row41_col0, #T_17646_row42_col0 {\n",
       "  background-color: #fff7b9;\n",
       "  color: #000000;\n",
       "}\n",
       "#T_17646_row43_col0 {\n",
       "  background-color: #fff8ba;\n",
       "  color: #000000;\n",
       "}\n",
       "#T_17646_row44_col0 {\n",
       "  background-color: #fffac0;\n",
       "  color: #000000;\n",
       "}\n",
       "#T_17646_row45_col0 {\n",
       "  background-color: #ffffcc;\n",
       "  color: #000000;\n",
       "}\n",
       "</style>\n",
       "<table id=\"T_17646\">\n",
       "  <thead>\n",
       "    <tr>\n",
       "      <th class=\"blank level0\" >&nbsp;</th>\n",
       "      <th id=\"T_17646_level0_col0\" class=\"col_heading level0 col0\" >Missing</th>\n",
       "    </tr>\n",
       "  </thead>\n",
       "  <tbody>\n",
       "    <tr>\n",
       "      <th id=\"T_17646_level0_row0\" class=\"row_heading level0 row0\" >PAQ_A-PAQ_A_Total</th>\n",
       "      <td id=\"T_17646_row0_col0\" class=\"data row0 col0\" >2373</td>\n",
       "    </tr>\n",
       "    <tr>\n",
       "      <th id=\"T_17646_level0_row1\" class=\"row_heading level0 row1\" >Physical-Waist_Circumference</th>\n",
       "      <td id=\"T_17646_row1_col0\" class=\"data row1 col0\" >2253</td>\n",
       "    </tr>\n",
       "    <tr>\n",
       "      <th id=\"T_17646_level0_row2\" class=\"row_heading level0 row2\" >Fitness_Endurance-Time_Sec</th>\n",
       "      <td id=\"T_17646_row2_col0\" class=\"data row2 col0\" >2008</td>\n",
       "    </tr>\n",
       "    <tr>\n",
       "      <th id=\"T_17646_level0_row3\" class=\"row_heading level0 row3\" >Fitness_Endurance-Time_Mins</th>\n",
       "      <td id=\"T_17646_row3_col0\" class=\"data row3 col0\" >2008</td>\n",
       "    </tr>\n",
       "    <tr>\n",
       "      <th id=\"T_17646_level0_row4\" class=\"row_heading level0 row4\" >Fitness_Endurance-Max_Stage</th>\n",
       "      <td id=\"T_17646_row4_col0\" class=\"data row4 col0\" >2005</td>\n",
       "    </tr>\n",
       "    <tr>\n",
       "      <th id=\"T_17646_level0_row5\" class=\"row_heading level0 row5\" >FGC-FGC_GSD_Zone</th>\n",
       "      <td id=\"T_17646_row5_col0\" class=\"data row5 col0\" >1872</td>\n",
       "    </tr>\n",
       "    <tr>\n",
       "      <th id=\"T_17646_level0_row6\" class=\"row_heading level0 row6\" >FGC-FGC_GSND_Zone</th>\n",
       "      <td id=\"T_17646_row6_col0\" class=\"data row6 col0\" >1872</td>\n",
       "    </tr>\n",
       "    <tr>\n",
       "      <th id=\"T_17646_level0_row7\" class=\"row_heading level0 row7\" >FGC-FGC_GSD</th>\n",
       "      <td id=\"T_17646_row7_col0\" class=\"data row7 col0\" >1865</td>\n",
       "    </tr>\n",
       "    <tr>\n",
       "      <th id=\"T_17646_level0_row8\" class=\"row_heading level0 row8\" >FGC-FGC_GSND</th>\n",
       "      <td id=\"T_17646_row8_col0\" class=\"data row8 col0\" >1864</td>\n",
       "    </tr>\n",
       "    <tr>\n",
       "      <th id=\"T_17646_level0_row9\" class=\"row_heading level0 row9\" >PAQ_C-PAQ_C_Total</th>\n",
       "      <td id=\"T_17646_row9_col0\" class=\"data row9 col0\" >1296</td>\n",
       "    </tr>\n",
       "    <tr>\n",
       "      <th id=\"T_17646_level0_row10\" class=\"row_heading level0 row10\" >BIA-BIA_BMC</th>\n",
       "      <td id=\"T_17646_row10_col0\" class=\"data row10 col0\" >923</td>\n",
       "    </tr>\n",
       "    <tr>\n",
       "      <th id=\"T_17646_level0_row11\" class=\"row_heading level0 row11\" >BIA-BIA_BMI</th>\n",
       "      <td id=\"T_17646_row11_col0\" class=\"data row11 col0\" >923</td>\n",
       "    </tr>\n",
       "    <tr>\n",
       "      <th id=\"T_17646_level0_row12\" class=\"row_heading level0 row12\" >BIA-BIA_FFM</th>\n",
       "      <td id=\"T_17646_row12_col0\" class=\"data row12 col0\" >923</td>\n",
       "    </tr>\n",
       "    <tr>\n",
       "      <th id=\"T_17646_level0_row13\" class=\"row_heading level0 row13\" >BIA-BIA_BMR</th>\n",
       "      <td id=\"T_17646_row13_col0\" class=\"data row13 col0\" >923</td>\n",
       "    </tr>\n",
       "    <tr>\n",
       "      <th id=\"T_17646_level0_row14\" class=\"row_heading level0 row14\" >BIA-BIA_DEE</th>\n",
       "      <td id=\"T_17646_row14_col0\" class=\"data row14 col0\" >923</td>\n",
       "    </tr>\n",
       "    <tr>\n",
       "      <th id=\"T_17646_level0_row15\" class=\"row_heading level0 row15\" >BIA-BIA_LST</th>\n",
       "      <td id=\"T_17646_row15_col0\" class=\"data row15 col0\" >923</td>\n",
       "    </tr>\n",
       "    <tr>\n",
       "      <th id=\"T_17646_level0_row16\" class=\"row_heading level0 row16\" >BIA-BIA_ICW</th>\n",
       "      <td id=\"T_17646_row16_col0\" class=\"data row16 col0\" >923</td>\n",
       "    </tr>\n",
       "    <tr>\n",
       "      <th id=\"T_17646_level0_row17\" class=\"row_heading level0 row17\" >BIA-BIA_SMM</th>\n",
       "      <td id=\"T_17646_row17_col0\" class=\"data row17 col0\" >923</td>\n",
       "    </tr>\n",
       "    <tr>\n",
       "      <th id=\"T_17646_level0_row18\" class=\"row_heading level0 row18\" >BIA-BIA_Frame_num</th>\n",
       "      <td id=\"T_17646_row18_col0\" class=\"data row18 col0\" >923</td>\n",
       "    </tr>\n",
       "    <tr>\n",
       "      <th id=\"T_17646_level0_row19\" class=\"row_heading level0 row19\" >BIA-BIA_FMI</th>\n",
       "      <td id=\"T_17646_row19_col0\" class=\"data row19 col0\" >923</td>\n",
       "    </tr>\n",
       "    <tr>\n",
       "      <th id=\"T_17646_level0_row20\" class=\"row_heading level0 row20\" >BIA-BIA_Fat</th>\n",
       "      <td id=\"T_17646_row20_col0\" class=\"data row20 col0\" >923</td>\n",
       "    </tr>\n",
       "    <tr>\n",
       "      <th id=\"T_17646_level0_row21\" class=\"row_heading level0 row21\" >BIA-BIA_FFMI</th>\n",
       "      <td id=\"T_17646_row21_col0\" class=\"data row21 col0\" >923</td>\n",
       "    </tr>\n",
       "    <tr>\n",
       "      <th id=\"T_17646_level0_row22\" class=\"row_heading level0 row22\" >BIA-BIA_Activity_Level_num</th>\n",
       "      <td id=\"T_17646_row22_col0\" class=\"data row22 col0\" >923</td>\n",
       "    </tr>\n",
       "    <tr>\n",
       "      <th id=\"T_17646_level0_row23\" class=\"row_heading level0 row23\" >BIA-BIA_ECW</th>\n",
       "      <td id=\"T_17646_row23_col0\" class=\"data row23 col0\" >923</td>\n",
       "    </tr>\n",
       "    <tr>\n",
       "      <th id=\"T_17646_level0_row24\" class=\"row_heading level0 row24\" >BIA-BIA_LDM</th>\n",
       "      <td id=\"T_17646_row24_col0\" class=\"data row24 col0\" >923</td>\n",
       "    </tr>\n",
       "    <tr>\n",
       "      <th id=\"T_17646_level0_row25\" class=\"row_heading level0 row25\" >BIA-BIA_TBW</th>\n",
       "      <td id=\"T_17646_row25_col0\" class=\"data row25 col0\" >923</td>\n",
       "    </tr>\n",
       "    <tr>\n",
       "      <th id=\"T_17646_level0_row26\" class=\"row_heading level0 row26\" >FGC-FGC_PU_Zone</th>\n",
       "      <td id=\"T_17646_row26_col0\" class=\"data row26 col0\" >861</td>\n",
       "    </tr>\n",
       "    <tr>\n",
       "      <th id=\"T_17646_level0_row27\" class=\"row_heading level0 row27\" >FGC-FGC_SRL_Zone</th>\n",
       "      <td id=\"T_17646_row27_col0\" class=\"data row27 col0\" >859</td>\n",
       "    </tr>\n",
       "    <tr>\n",
       "      <th id=\"T_17646_level0_row28\" class=\"row_heading level0 row28\" >FGC-FGC_SRR_Zone</th>\n",
       "      <td id=\"T_17646_row28_col0\" class=\"data row28 col0\" >857</td>\n",
       "    </tr>\n",
       "    <tr>\n",
       "      <th id=\"T_17646_level0_row29\" class=\"row_heading level0 row29\" >FGC-FGC_CU_Zone</th>\n",
       "      <td id=\"T_17646_row29_col0\" class=\"data row29 col0\" >852</td>\n",
       "    </tr>\n",
       "    <tr>\n",
       "      <th id=\"T_17646_level0_row30\" class=\"row_heading level0 row30\" >FGC-FGC_TL_Zone</th>\n",
       "      <td id=\"T_17646_row30_col0\" class=\"data row30 col0\" >851</td>\n",
       "    </tr>\n",
       "    <tr>\n",
       "      <th id=\"T_17646_level0_row31\" class=\"row_heading level0 row31\" >FGC-FGC_PU</th>\n",
       "      <td id=\"T_17646_row31_col0\" class=\"data row31 col0\" >827</td>\n",
       "    </tr>\n",
       "    <tr>\n",
       "      <th id=\"T_17646_level0_row32\" class=\"row_heading level0 row32\" >FGC-FGC_SRL</th>\n",
       "      <td id=\"T_17646_row32_col0\" class=\"data row32 col0\" >825</td>\n",
       "    </tr>\n",
       "    <tr>\n",
       "      <th id=\"T_17646_level0_row33\" class=\"row_heading level0 row33\" >FGC-FGC_SRR</th>\n",
       "      <td id=\"T_17646_row33_col0\" class=\"data row33 col0\" >823</td>\n",
       "    </tr>\n",
       "    <tr>\n",
       "      <th id=\"T_17646_level0_row34\" class=\"row_heading level0 row34\" >FGC-FGC_TL</th>\n",
       "      <td id=\"T_17646_row34_col0\" class=\"data row34 col0\" >817</td>\n",
       "    </tr>\n",
       "    <tr>\n",
       "      <th id=\"T_17646_level0_row35\" class=\"row_heading level0 row35\" >FGC-FGC_CU</th>\n",
       "      <td id=\"T_17646_row35_col0\" class=\"data row35 col0\" >817</td>\n",
       "    </tr>\n",
       "    <tr>\n",
       "      <th id=\"T_17646_level0_row36\" class=\"row_heading level0 row36\" >CGAS-CGAS_Score</th>\n",
       "      <td id=\"T_17646_row36_col0\" class=\"data row36 col0\" >394</td>\n",
       "    </tr>\n",
       "    <tr>\n",
       "      <th id=\"T_17646_level0_row37\" class=\"row_heading level0 row37\" >Physical-Systolic_BP</th>\n",
       "      <td id=\"T_17646_row37_col0\" class=\"data row37 col0\" >258</td>\n",
       "    </tr>\n",
       "    <tr>\n",
       "      <th id=\"T_17646_level0_row38\" class=\"row_heading level0 row38\" >Physical-Diastolic_BP</th>\n",
       "      <td id=\"T_17646_row38_col0\" class=\"data row38 col0\" >258</td>\n",
       "    </tr>\n",
       "    <tr>\n",
       "      <th id=\"T_17646_level0_row39\" class=\"row_heading level0 row39\" >Physical-HeartRate</th>\n",
       "      <td id=\"T_17646_row39_col0\" class=\"data row39 col0\" >250</td>\n",
       "    </tr>\n",
       "    <tr>\n",
       "      <th id=\"T_17646_level0_row40\" class=\"row_heading level0 row40\" >SDS-SDS_Total_T</th>\n",
       "      <td id=\"T_17646_row40_col0\" class=\"data row40 col0\" >211</td>\n",
       "    </tr>\n",
       "    <tr>\n",
       "      <th id=\"T_17646_level0_row41\" class=\"row_heading level0 row41\" >Physical-BMI</th>\n",
       "      <td id=\"T_17646_row41_col0\" class=\"data row41 col0\" >209</td>\n",
       "    </tr>\n",
       "    <tr>\n",
       "      <th id=\"T_17646_level0_row42\" class=\"row_heading level0 row42\" >SDS-SDS_Total_Raw</th>\n",
       "      <td id=\"T_17646_row42_col0\" class=\"data row42 col0\" >209</td>\n",
       "    </tr>\n",
       "    <tr>\n",
       "      <th id=\"T_17646_level0_row43\" class=\"row_heading level0 row43\" >Physical-Height</th>\n",
       "      <td id=\"T_17646_row43_col0\" class=\"data row43 col0\" >206</td>\n",
       "    </tr>\n",
       "    <tr>\n",
       "      <th id=\"T_17646_level0_row44\" class=\"row_heading level0 row44\" >Physical-Weight</th>\n",
       "      <td id=\"T_17646_row44_col0\" class=\"data row44 col0\" >164</td>\n",
       "    </tr>\n",
       "    <tr>\n",
       "      <th id=\"T_17646_level0_row45\" class=\"row_heading level0 row45\" >PreInt_EduHx-computerinternet_hoursday</th>\n",
       "      <td id=\"T_17646_row45_col0\" class=\"data row45 col0\" >82</td>\n",
       "    </tr>\n",
       "  </tbody>\n",
       "</table>\n"
      ],
      "text/plain": [
       "<pandas.io.formats.style.Styler at 0x21d871d4e30>"
      ]
     },
     "execution_count": 57,
     "metadata": {},
     "output_type": "execute_result"
    }
   ],
   "source": [
    "null = train.isna().sum().sort_values(ascending = False).head(46)\n",
    "null = pd.DataFrame(null)\n",
    "null = null.rename(columns= {0:'Missing'})\n",
    "null.style.background_gradient(cmap='YlOrRd')"
   ]
  },
  {
   "cell_type": "code",
   "execution_count": 58,
   "id": "ccc1159d",
   "metadata": {
    "execution": {
     "iopub.execute_input": "2024-12-20T10:46:06.673098Z",
     "iopub.status.busy": "2024-12-20T10:46:06.672698Z",
     "iopub.status.idle": "2024-12-20T10:46:06.681990Z",
     "shell.execute_reply": "2024-12-20T10:46:06.680872Z"
    },
    "papermill": {
     "duration": 0.028015,
     "end_time": "2024-12-20T10:46:06.684104",
     "exception": false,
     "start_time": "2024-12-20T10:46:06.656089",
     "status": "completed"
    },
    "tags": []
   },
   "outputs": [
    {
     "data": {
      "text/plain": [
       "['Physical-Waist_Circumference',\n",
       " 'Fitness_Endurance-Max_Stage',\n",
       " 'Fitness_Endurance-Time_Mins',\n",
       " 'Fitness_Endurance-Time_Sec',\n",
       " 'FGC-FGC_GSND',\n",
       " 'FGC-FGC_GSND_Zone',\n",
       " 'FGC-FGC_GSD',\n",
       " 'FGC-FGC_GSD_Zone',\n",
       " 'PAQ_A-PAQ_A_Total']"
      ]
     },
     "execution_count": 58,
     "metadata": {},
     "output_type": "execute_result"
    }
   ],
   "source": [
    "half_missing = [val for val in train.columns[train.isnull().sum()>len(train)/2]]\n",
    "half_missing"
   ]
  },
  {
   "cell_type": "code",
   "execution_count": 59,
   "id": "d52f5f44",
   "metadata": {
    "execution": {
     "iopub.execute_input": "2024-12-20T10:46:06.713785Z",
     "iopub.status.busy": "2024-12-20T10:46:06.713373Z",
     "iopub.status.idle": "2024-12-20T10:46:06.718370Z",
     "shell.execute_reply": "2024-12-20T10:46:06.717469Z"
    },
    "papermill": {
     "duration": 0.022538,
     "end_time": "2024-12-20T10:46:06.720632",
     "exception": false,
     "start_time": "2024-12-20T10:46:06.698094",
     "status": "completed"
    },
    "tags": []
   },
   "outputs": [],
   "source": [
    "selection = [i for i in selection if i not in half_missing]"
   ]
  },
  {
   "cell_type": "code",
   "execution_count": 60,
   "id": "23d111ca",
   "metadata": {
    "execution": {
     "iopub.execute_input": "2024-12-20T10:46:06.805431Z",
     "iopub.status.busy": "2024-12-20T10:46:06.805039Z",
     "iopub.status.idle": "2024-12-20T10:46:06.854152Z",
     "shell.execute_reply": "2024-12-20T10:46:06.853087Z"
    },
    "papermill": {
     "duration": 0.066396,
     "end_time": "2024-12-20T10:46:06.856513",
     "exception": false,
     "start_time": "2024-12-20T10:46:06.790117",
     "status": "completed"
    },
    "tags": []
   },
   "outputs": [
    {
     "data": {
      "text/html": [
       "<style type=\"text/css\">\n",
       "#T_45d3e_row0_col0, #T_45d3e_row4_col0, #T_45d3e_row5_col0, #T_45d3e_row6_col0, #T_45d3e_row6_col1, #T_45d3e_row7_col0, #T_45d3e_row7_col1, #T_45d3e_row8_col0, #T_45d3e_row9_col0, #T_45d3e_row10_col0, #T_45d3e_row13_col0, #T_45d3e_row14_col0 {\n",
       "  background-color: #ffffcc;\n",
       "  color: #000000;\n",
       "}\n",
       "#T_45d3e_row0_col1 {\n",
       "  background-color: #ffe998;\n",
       "  color: #000000;\n",
       "}\n",
       "#T_45d3e_row1_col0 {\n",
       "  background-color: #ffe794;\n",
       "  color: #000000;\n",
       "}\n",
       "#T_45d3e_row1_col1 {\n",
       "  background-color: #ef3323;\n",
       "  color: #f1f1f1;\n",
       "}\n",
       "#T_45d3e_row2_col0 {\n",
       "  background-color: #fffcc5;\n",
       "  color: #000000;\n",
       "}\n",
       "#T_45d3e_row2_col1, #T_45d3e_row14_col1 {\n",
       "  background-color: #fffecb;\n",
       "  color: #000000;\n",
       "}\n",
       "#T_45d3e_row3_col0 {\n",
       "  background-color: #fff0a8;\n",
       "  color: #000000;\n",
       "}\n",
       "#T_45d3e_row3_col1 {\n",
       "  background-color: #fff5b5;\n",
       "  color: #000000;\n",
       "}\n",
       "#T_45d3e_row4_col1 {\n",
       "  background-color: #feb651;\n",
       "  color: #000000;\n",
       "}\n",
       "#T_45d3e_row5_col1 {\n",
       "  background-color: #ffe895;\n",
       "  color: #000000;\n",
       "}\n",
       "#T_45d3e_row8_col1 {\n",
       "  background-color: #fff6b6;\n",
       "  color: #000000;\n",
       "}\n",
       "#T_45d3e_row9_col1, #T_45d3e_row10_col1 {\n",
       "  background-color: #fffec9;\n",
       "  color: #000000;\n",
       "}\n",
       "#T_45d3e_row11_col0 {\n",
       "  background-color: #e61f1d;\n",
       "  color: #f1f1f1;\n",
       "}\n",
       "#T_45d3e_row11_col1 {\n",
       "  background-color: #fed977;\n",
       "  color: #000000;\n",
       "}\n",
       "#T_45d3e_row12_col0, #T_45d3e_row13_col1 {\n",
       "  background-color: #800026;\n",
       "  color: #f1f1f1;\n",
       "}\n",
       "#T_45d3e_row12_col1 {\n",
       "  background-color: #f84628;\n",
       "  color: #f1f1f1;\n",
       "}\n",
       "#T_45d3e_row15_col0 {\n",
       "  background-color: #db141e;\n",
       "  color: #f1f1f1;\n",
       "}\n",
       "#T_45d3e_row15_col1 {\n",
       "  background-color: #fec561;\n",
       "  color: #000000;\n",
       "}\n",
       "</style>\n",
       "<table id=\"T_45d3e\">\n",
       "  <thead>\n",
       "    <tr>\n",
       "      <th class=\"blank level0\" >&nbsp;</th>\n",
       "      <th id=\"T_45d3e_level0_col0\" class=\"col_heading level0 col0\" >min</th>\n",
       "      <th id=\"T_45d3e_level0_col1\" class=\"col_heading level0 col1\" >max</th>\n",
       "    </tr>\n",
       "  </thead>\n",
       "  <tbody>\n",
       "    <tr>\n",
       "      <th id=\"T_45d3e_level0_row0\" class=\"row_heading level0 row0\" >BIA-BIA_BMI</th>\n",
       "      <td id=\"T_45d3e_row0_col0\" class=\"data row0 col0\" >0.048267</td>\n",
       "      <td id=\"T_45d3e_row0_col1\" class=\"data row0 col1\" >48.375400</td>\n",
       "    </tr>\n",
       "    <tr>\n",
       "      <th id=\"T_45d3e_level0_row1\" class=\"row_heading level0 row1\" >BIA-BIA_FFMI</th>\n",
       "      <td id=\"T_45d3e_row1_col0\" class=\"data row1 col0\" >7.864850</td>\n",
       "      <td id=\"T_45d3e_row1_col1\" class=\"data row1 col1\" >217.771000</td>\n",
       "    </tr>\n",
       "    <tr>\n",
       "      <th id=\"T_45d3e_level0_row2\" class=\"row_heading level0 row2\" >BIA-BIA_Frame_num</th>\n",
       "      <td id=\"T_45d3e_row2_col0\" class=\"data row2 col0\" >1.000000</td>\n",
       "      <td id=\"T_45d3e_row2_col1\" class=\"data row2 col1\" >3.000000</td>\n",
       "    </tr>\n",
       "    <tr>\n",
       "      <th id=\"T_45d3e_level0_row3\" class=\"row_heading level0 row3\" >Basic_Demos-Age</th>\n",
       "      <td id=\"T_45d3e_row3_col0\" class=\"data row3 col0\" >5.000000</td>\n",
       "      <td id=\"T_45d3e_row3_col1\" class=\"data row3 col1\" >22.000000</td>\n",
       "    </tr>\n",
       "    <tr>\n",
       "      <th id=\"T_45d3e_level0_row4\" class=\"row_heading level0 row4\" >FGC-FGC_CU</th>\n",
       "      <td id=\"T_45d3e_row4_col0\" class=\"data row4 col0\" >0.000000</td>\n",
       "      <td id=\"T_45d3e_row4_col1\" class=\"data row4 col1\" >115.000000</td>\n",
       "    </tr>\n",
       "    <tr>\n",
       "      <th id=\"T_45d3e_level0_row5\" class=\"row_heading level0 row5\" >FGC-FGC_PU</th>\n",
       "      <td id=\"T_45d3e_row5_col0\" class=\"data row5 col0\" >0.000000</td>\n",
       "      <td id=\"T_45d3e_row5_col1\" class=\"data row5 col1\" >51.000000</td>\n",
       "    </tr>\n",
       "    <tr>\n",
       "      <th id=\"T_45d3e_level0_row6\" class=\"row_heading level0 row6\" >FGC-FGC_SRL_Zone</th>\n",
       "      <td id=\"T_45d3e_row6_col0\" class=\"data row6 col0\" >0.000000</td>\n",
       "      <td id=\"T_45d3e_row6_col1\" class=\"data row6 col1\" >1.000000</td>\n",
       "    </tr>\n",
       "    <tr>\n",
       "      <th id=\"T_45d3e_level0_row7\" class=\"row_heading level0 row7\" >FGC-FGC_SRR_Zone</th>\n",
       "      <td id=\"T_45d3e_row7_col0\" class=\"data row7 col0\" >0.000000</td>\n",
       "      <td id=\"T_45d3e_row7_col1\" class=\"data row7 col1\" >1.000000</td>\n",
       "    </tr>\n",
       "    <tr>\n",
       "      <th id=\"T_45d3e_level0_row8\" class=\"row_heading level0 row8\" >FGC-FGC_TL</th>\n",
       "      <td id=\"T_45d3e_row8_col0\" class=\"data row8 col0\" >0.000000</td>\n",
       "      <td id=\"T_45d3e_row8_col1\" class=\"data row8 col1\" >21.000000</td>\n",
       "    </tr>\n",
       "    <tr>\n",
       "      <th id=\"T_45d3e_level0_row9\" class=\"row_heading level0 row9\" >PAQ_A-Season</th>\n",
       "      <td id=\"T_45d3e_row9_col0\" class=\"data row9 col0\" >0.000000</td>\n",
       "      <td id=\"T_45d3e_row9_col1\" class=\"data row9 col1\" >4.000000</td>\n",
       "    </tr>\n",
       "    <tr>\n",
       "      <th id=\"T_45d3e_level0_row10\" class=\"row_heading level0 row10\" >PAQ_C-Season</th>\n",
       "      <td id=\"T_45d3e_row10_col0\" class=\"data row10 col0\" >0.000000</td>\n",
       "      <td id=\"T_45d3e_row10_col1\" class=\"data row10 col1\" >4.000000</td>\n",
       "    </tr>\n",
       "    <tr>\n",
       "      <th id=\"T_45d3e_level0_row11\" class=\"row_heading level0 row11\" >Physical-Height</th>\n",
       "      <td id=\"T_45d3e_row11_col0\" class=\"data row11 col0\" >36.000000</td>\n",
       "      <td id=\"T_45d3e_row11_col1\" class=\"data row11 col1\" >78.500000</td>\n",
       "    </tr>\n",
       "    <tr>\n",
       "      <th id=\"T_45d3e_level0_row12\" class=\"row_heading level0 row12\" >Physical-Systolic_BP</th>\n",
       "      <td id=\"T_45d3e_row12_col0\" class=\"data row12 col0\" >49.000000</td>\n",
       "      <td id=\"T_45d3e_row12_col1\" class=\"data row12 col1\" >203.000000</td>\n",
       "    </tr>\n",
       "    <tr>\n",
       "      <th id=\"T_45d3e_level0_row13\" class=\"row_heading level0 row13\" >Physical-Weight</th>\n",
       "      <td id=\"T_45d3e_row13_col0\" class=\"data row13 col0\" >0.000000</td>\n",
       "      <td id=\"T_45d3e_row13_col1\" class=\"data row13 col1\" >315.000000</td>\n",
       "    </tr>\n",
       "    <tr>\n",
       "      <th id=\"T_45d3e_level0_row14\" class=\"row_heading level0 row14\" >PreInt_EduHx-computerinternet_hoursday</th>\n",
       "      <td id=\"T_45d3e_row14_col0\" class=\"data row14 col0\" >0.000000</td>\n",
       "      <td id=\"T_45d3e_row14_col1\" class=\"data row14 col1\" >3.000000</td>\n",
       "    </tr>\n",
       "    <tr>\n",
       "      <th id=\"T_45d3e_level0_row15\" class=\"row_heading level0 row15\" >SDS-SDS_Total_T</th>\n",
       "      <td id=\"T_45d3e_row15_col0\" class=\"data row15 col0\" >38.000000</td>\n",
       "      <td id=\"T_45d3e_row15_col1\" class=\"data row15 col1\" >100.000000</td>\n",
       "    </tr>\n",
       "  </tbody>\n",
       "</table>\n"
      ],
      "text/plain": [
       "<pandas.io.formats.style.Styler at 0x21dfcc47980>"
      ]
     },
     "execution_count": 60,
     "metadata": {},
     "output_type": "execute_result"
    }
   ],
   "source": [
    "describe = train[selection].describe().T\n",
    "describe = describe[['min','max']].sort_index()\n",
    "describe.style.background_gradient(cmap='YlOrRd')"
   ]
  },
  {
   "cell_type": "code",
   "execution_count": 61,
   "id": "2f85c1ea",
   "metadata": {
    "execution": {
     "iopub.execute_input": "2024-12-20T10:46:06.886396Z",
     "iopub.status.busy": "2024-12-20T10:46:06.886013Z",
     "iopub.status.idle": "2024-12-20T10:46:11.098694Z",
     "shell.execute_reply": "2024-12-20T10:46:11.097493Z"
    },
    "papermill": {
     "duration": 4.230282,
     "end_time": "2024-12-20T10:46:11.100996",
     "exception": false,
     "start_time": "2024-12-20T10:46:06.870714",
     "status": "completed"
    },
    "tags": []
   },
   "outputs": [
    {
     "data": {
      "image/png": "[encoded data removed]",
      "text/plain": [
       "<Figure size 1000x1000 with 16 Axes>"
      ]
     },
     "metadata": {},
     "output_type": "display_data"
    }
   ],
   "source": [
    "train[selection].hist(figsize=(10,10), grid = True, color = 'chocolate')\n",
    "plt.tight_layout()"
   ]
  },
  {
   "cell_type": "code",
   "execution_count": 62,
   "id": "4243f72f",
   "metadata": {
    "execution": {
     "iopub.execute_input": "2024-12-20T10:46:11.198885Z",
     "iopub.status.busy": "2024-12-20T10:46:11.198453Z",
     "iopub.status.idle": "2024-12-20T10:46:11.205458Z",
     "shell.execute_reply": "2024-12-20T10:46:11.204646Z"
    },
    "papermill": {
     "duration": 0.026947,
     "end_time": "2024-12-20T10:46:11.207478",
     "exception": false,
     "start_time": "2024-12-20T10:46:11.180531",
     "status": "completed"
    },
    "tags": []
   },
   "outputs": [],
   "source": [
    "X = train[selection]\n",
    "test = test[selection]\n",
    "y = train['PCIAT-PCIAT_Total']"
   ]
  },
  {
   "cell_type": "code",
   "execution_count": 63,
   "id": "1ba5a676",
   "metadata": {
    "execution": {
     "iopub.execute_input": "2024-12-20T10:46:11.240764Z",
     "iopub.status.busy": "2024-12-20T10:46:11.240346Z",
     "iopub.status.idle": "2024-12-20T10:46:11.246064Z",
     "shell.execute_reply": "2024-12-20T10:46:11.245066Z"
    },
    "papermill": {
     "duration": 0.024795,
     "end_time": "2024-12-20T10:46:11.248057",
     "exception": false,
     "start_time": "2024-12-20T10:46:11.223262",
     "status": "completed"
    },
    "tags": []
   },
   "outputs": [],
   "source": [
    "def convert(scores):\n",
    "    scores = np.array(scores)\n",
    "    bins = np.zeros_like(scores)\n",
    "    bins[scores <= 30] = 0\n",
    "    bins[(scores > 30) & (scores < 50)] = 1\n",
    "    bins[(scores >= 50) & (scores < 80)] = 2\n",
    "    bins[scores >= 80] = 3\n",
    "    return bins"
   ]
  },
  {
   "cell_type": "code",
   "execution_count": 64,
   "id": "9acd85e6",
   "metadata": {
    "execution": {
     "iopub.execute_input": "2024-12-20T10:46:11.281835Z",
     "iopub.status.busy": "2024-12-20T10:46:11.281418Z",
     "iopub.status.idle": "2024-12-20T10:46:11.286953Z",
     "shell.execute_reply": "2024-12-20T10:46:11.285927Z"
    },
    "papermill": {
     "duration": 0.025354,
     "end_time": "2024-12-20T10:46:11.288990",
     "exception": false,
     "start_time": "2024-12-20T10:46:11.263636",
     "status": "completed"
    },
    "tags": []
   },
   "outputs": [],
   "source": [
    "def convert2(scores):\n",
    "    scores = np.array(scores)*1.252\n",
    "    bins = np.zeros_like(scores)\n",
    "    bins[scores <= 32] = 0\n",
    "    bins[(scores > 32) & (scores < 50)] = 1\n",
    "    bins[(scores >= 50) & (scores < 70)] = 2\n",
    "    bins[scores >= 70] = 3\n",
    "    return bins"
   ]
  },
  {
   "cell_type": "code",
   "execution_count": 65,
   "id": "fa2f320a",
   "metadata": {
    "execution": {
     "iopub.execute_input": "2024-12-20T10:46:11.322609Z",
     "iopub.status.busy": "2024-12-20T10:46:11.321522Z",
     "iopub.status.idle": "2024-12-20T10:46:11.327685Z",
     "shell.execute_reply": "2024-12-20T10:46:11.326659Z"
    },
    "papermill": {
     "duration": 0.025078,
     "end_time": "2024-12-20T10:46:11.329754",
     "exception": false,
     "start_time": "2024-12-20T10:46:11.304676",
     "status": "completed"
    },
    "tags": []
   },
   "outputs": [],
   "source": [
    "def quadratic_kappa(y_true, y_pred):\n",
    "    y_true_cat = convert(y_true)\n",
    "    y_pred_cat = convert2(y_pred)\n",
    "    return cohen_kappa_score(y_true_cat, y_pred_cat, weights='quadratic')\n",
    "\n",
    "kappa_scorer = make_scorer(quadratic_kappa, greater_is_better=True)"
   ]
  },
  {
   "cell_type": "code",
   "execution_count": 66,
   "id": "ac3bd70a",
   "metadata": {
    "execution": {
     "iopub.execute_input": "2024-12-20T10:46:11.363000Z",
     "iopub.status.busy": "2024-12-20T10:46:11.362553Z",
     "iopub.status.idle": "2024-12-20T10:46:11.367633Z",
     "shell.execute_reply": "2024-12-20T10:46:11.366553Z"
    },
    "papermill": {
     "duration": 0.024156,
     "end_time": "2024-12-20T10:46:11.369697",
     "exception": false,
     "start_time": "2024-12-20T10:46:11.345541",
     "status": "completed"
    },
    "tags": []
   },
   "outputs": [],
   "source": [
    "params = {'max_depth': 3, 'n_estimators': 59, 'learning_rate': 0.073, 'subsample': 0.59, 'colsample_bytree': 0.9}"
   ]
  },
  {
   "cell_type": "code",
   "execution_count": 67,
   "id": "4fe98c3d",
   "metadata": {
    "execution": {
     "iopub.execute_input": "2024-12-20T10:46:11.405371Z",
     "iopub.status.busy": "2024-12-20T10:46:11.404461Z",
     "iopub.status.idle": "2024-12-20T10:46:11.409724Z",
     "shell.execute_reply": "2024-12-20T10:46:11.408543Z"
    },
    "papermill": {
     "duration": 0.026217,
     "end_time": "2024-12-20T10:46:11.411954",
     "exception": false,
     "start_time": "2024-12-20T10:46:11.385737",
     "status": "completed"
    },
    "tags": []
   },
   "outputs": [],
   "source": [
    "skf = StratifiedKFold(n_splits=10)\n",
    "model = xgb.XGBRegressor(**params)"
   ]
  },
  {
   "cell_type": "code",
   "execution_count": 68,
   "id": "08cb6d33",
   "metadata": {
    "execution": {
     "iopub.execute_input": "2024-12-20T10:46:11.445951Z",
     "iopub.status.busy": "2024-12-20T10:46:11.445101Z",
     "iopub.status.idle": "2024-12-20T10:46:12.108948Z",
     "shell.execute_reply": "2024-12-20T10:46:12.107926Z"
    },
    "papermill": {
     "duration": 0.683585,
     "end_time": "2024-12-20T10:46:12.111540",
     "exception": false,
     "start_time": "2024-12-20T10:46:11.427955",
     "status": "completed"
    },
    "tags": []
   },
   "outputs": [
    {
     "name": "stderr",
     "output_type": "stream",
     "text": [
      "c:\\Users\\anime\\AppData\\Local\\Programs\\Python\\Python312\\Lib\\site-packages\\sklearn\\model_selection\\_split.py:776: UserWarning:\n",
      "\n",
      "The least populated class in y has only 1 members, which is less than n_splits=10.\n",
      "\n"
     ]
    },
    {
     "name": "stdout",
     "output_type": "stream",
     "text": [
      "QWK Scores: [0.37407398 0.49184223 0.4901377  0.46447318 0.52797113 0.45593578\n",
      " 0.4527134  0.38116138 0.43829076 0.41645885]\n",
      "Mean QWK Score: 0.44930583940699265\n"
     ]
    }
   ],
   "source": [
    "scores = cross_val_score(model, X, y, cv=skf, scoring=kappa_scorer)\n",
    "print(\"QWK Scores:\", scores)\n",
    "print(\"Mean QWK Score:\", np.mean(scores))"
   ]
  },
  {
   "cell_type": "code",
   "execution_count": 69,
   "id": "064aeeda",
   "metadata": {
    "execution": {
     "iopub.execute_input": "2024-12-20T10:46:12.147300Z",
     "iopub.status.busy": "2024-12-20T10:46:12.146911Z",
     "iopub.status.idle": "2024-12-20T10:46:12.210713Z",
     "shell.execute_reply": "2024-12-20T10:46:12.209774Z"
    },
    "papermill": {
     "duration": 0.083368,
     "end_time": "2024-12-20T10:46:12.213223",
     "exception": false,
     "start_time": "2024-12-20T10:46:12.129855",
     "status": "completed"
    },
    "tags": []
   },
   "outputs": [
    {
     "data": {
      "text/plain": [
       "Basic_Demos-Age                           0.253897\n",
       "PreInt_EduHx-computerinternet_hoursday    0.119438\n",
       "Physical-Height                           0.094246\n",
       "SDS-SDS_Total_T                           0.073609\n",
       "PAQ_A-Season                              0.061770\n",
       "FGC-FGC_CU                                0.054060\n",
       "Physical-Weight                           0.052100\n",
       "FGC-FGC_PU                                0.051688\n",
       "PAQ_C-Season                              0.044382\n",
       "Physical-Systolic_BP                      0.034121\n",
       "BIA-BIA_BMI                               0.033213\n",
       "BIA-BIA_Frame_num                         0.032994\n",
       "FGC-FGC_SRL_Zone                          0.032626\n",
       "FGC-FGC_TL                                0.031380\n",
       "BIA-BIA_FFMI                              0.030476\n",
       "FGC-FGC_SRR_Zone                          0.000000\n",
       "dtype: float32"
      ]
     },
     "execution_count": 69,
     "metadata": {},
     "output_type": "execute_result"
    }
   ],
   "source": [
    "model.fit(X,y)\n",
    "feature_imp = pd.Series(model.feature_importances_,index=X.columns).sort_values(ascending=False)\n",
    "feature_imp"
   ]
  },
  {
   "cell_type": "code",
   "execution_count": 70,
   "id": "d400616b",
   "metadata": {
    "execution": {
     "iopub.execute_input": "2024-12-20T10:46:12.247845Z",
     "iopub.status.busy": "2024-12-20T10:46:12.247426Z",
     "iopub.status.idle": "2024-12-20T10:46:12.664554Z",
     "shell.execute_reply": "2024-12-20T10:46:12.663341Z"
    },
    "papermill": {
     "duration": 0.437158,
     "end_time": "2024-12-20T10:46:12.667332",
     "exception": false,
     "start_time": "2024-12-20T10:46:12.230174",
     "status": "completed"
    },
    "tags": []
   },
   "outputs": [
    {
     "data": {
      "image/png": "[encoded data removed]",
      "text/plain": [
       "<Figure size 640x480 with 1 Axes>"
      ]
     },
     "metadata": {},
     "output_type": "display_data"
    }
   ],
   "source": [
    "sns.barplot(x=feature_imp, y=feature_imp.index)\n",
    "plt.xlabel('Feature Importance Score')\n",
    "plt.title(\"Feature Importances\")\n",
    "plt.show()"
   ]
  },
  {
   "cell_type": "code",
   "execution_count": 71,
   "id": "a94a91e2",
   "metadata": {
    "execution": {
     "iopub.execute_input": "2024-12-20T10:46:13.216752Z",
     "iopub.status.busy": "2024-12-20T10:46:13.216351Z",
     "iopub.status.idle": "2024-12-20T10:46:13.288381Z",
     "shell.execute_reply": "2024-12-20T10:46:13.287455Z"
    },
    "papermill": {
     "duration": 0.092872,
     "end_time": "2024-12-20T10:46:13.290885",
     "exception": false,
     "start_time": "2024-12-20T10:46:13.198013",
     "status": "completed"
    },
    "tags": []
   },
   "outputs": [
    {
     "data": {
      "text/plain": [
       "0     1.0\n",
       "1     0.0\n",
       "2     1.0\n",
       "3     0.0\n",
       "4     1.0\n",
       "5     1.0\n",
       "6     1.0\n",
       "7     1.0\n",
       "8     1.0\n",
       "9     1.0\n",
       "10    1.0\n",
       "11    1.0\n",
       "12    1.0\n",
       "13    1.0\n",
       "14    1.0\n",
       "15    0.0\n",
       "16    0.0\n",
       "17    1.0\n",
       "18    1.0\n",
       "19    1.0\n",
       "dtype: float32"
      ]
     },
     "execution_count": 71,
     "metadata": {},
     "output_type": "execute_result"
    }
   ],
   "source": [
    "model.fit(X,y)\n",
    "preds = model.predict(test)\n",
    "preds = convert2(preds) # convert raw scores to sii categories if using regressor\n",
    "preds = pd.Series(preds)\n",
    "preds.index = test.index\n",
    "preds.to_csv('submission.csv')\n",
    "preds"
   ]
  }
 ],
 "metadata": {
  "kaggle": {
   "accelerator": "none",
   "dataSources": [
    {
     "databundleVersionId": 9643020,
     "sourceId": 81933,
     "sourceType": "competition"
    }
   ],
   "dockerImageVersionId": 30775,
   "isGpuEnabled": false,
   "isInternetEnabled": false,
   "language": "python",
   "sourceType": "notebook"
  },
  "kernelspec": {
   "display_name": "Python 3",
   "language": "python",
   "name": "python3"
  },
  "language_info": {
   "codemirror_mode": {
    "name": "ipython",
    "version": 3
   },
   "file_extension": ".py",
   "mimetype": "text/x-python",
   "name": "python",
   "nbconvert_exporter": "python",
   "pygments_lexer": "ipython3",
   "version": "3.12.4"
  },
  "papermill": {
   "default_parameters": {},
   "duration": 36.972331,
   "end_time": "2024-12-20T10:46:15.768357",
   "environment_variables": {},
   "exception": null,
   "input_path": "__notebook__.ipynb",
   "output_path": "__notebook__.ipynb",
   "parameters": {},
   "start_time": "2024-12-20T10:45:38.796026",
   "version": "2.6.0"
  }
 },
 "nbformat": 4,
 "nbformat_minor": 5
}
